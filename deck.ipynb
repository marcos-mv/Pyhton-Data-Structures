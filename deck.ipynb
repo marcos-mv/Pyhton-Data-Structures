{
 "cells": [
  {
   "cell_type": "code",
   "execution_count": 37,
   "metadata": {},
   "outputs": [],
   "source": [
    "class Node:\n",
    "    def __init__(self, data) -> None:\n",
    "        self.data = data\n",
    "        self.previous = None\n",
    "        self.next = None\n",
    "        pass\n",
    "    \n",
    "class Deck:\n",
    "    def __init__(self) -> None:\n",
    "        self._size = 0\n",
    "        self.right = None\n",
    "        self.left = None\n",
    "        pass\n",
    "    \n",
    "    def push_left(self, element):\n",
    "        node = Node(element)\n",
    "        if self.left is None:\n",
    "            self.left = node\n",
    "            self.right = node\n",
    "        else:\n",
    "            self.left.previous = node\n",
    "            node.next = self.left\n",
    "            self.left = node\n",
    "            \n",
    "        self._size += 1\n",
    "    \n",
    "    def push_right(self, element):\n",
    "        node  = Node(element)\n",
    "        \n",
    "        if self.right is None:\n",
    "            self.left = node\n",
    "            self.right = node\n",
    "        else:\n",
    "            node.previous = self.right\n",
    "            self.right.next = node\n",
    "            self.right = node\n",
    "            \n",
    "        self._size += 1\n",
    "    \n",
    "    def pop_left(self):\n",
    "        if self.empty():\n",
    "            return 'Deque Vazio!'\n",
    "        else:\n",
    "            element = self.left.data\n",
    "            if len(self) > 1:\n",
    "                self.left = self.left.next\n",
    "                self.left.previous = None\n",
    "            else:\n",
    "                self.right = None\n",
    "                self.left = None\n",
    "            self._size -= 1\n",
    "        return element\n",
    "    \n",
    "    def pop_right(self):\n",
    "        if self.empty():\n",
    "            return 'Deque Vazio!'\n",
    "        else:\n",
    "            element = self.right.data\n",
    "            if len(self) > 1:\n",
    "                self.right = self.right.previous\n",
    "                self.right.next = None\n",
    "            else:\n",
    "                self.right = None\n",
    "                self.left = None\n",
    "                \n",
    "            self._size -= 1\n",
    "        return element\n",
    "    \n",
    "    def peek_left(self):\n",
    "        if self.empty():\n",
    "            return 'Deque Vazio!'\n",
    "        return self.left.data\n",
    "    \n",
    "    def peek_right(self):\n",
    "        if self.empty():\n",
    "            return 'Deque Vazio!'\n",
    "        return self.right.data\n",
    "    \n",
    "    def empty(self):\n",
    "        return len(self) == 0\n",
    "    \n",
    "    def __len__(self):\n",
    "        return self._size\n",
    "    \n",
    "    def __repr__(self) -> str:\n",
    "        \n",
    "        if self.empty():\n",
    "            return 'Deck is Empty!'\n",
    "        \n",
    "        p = self.left\n",
    "        s = 'left << '\n",
    "        \n",
    "        while(p):\n",
    "            s += str(p.data)\n",
    "            p = p.next\n",
    "\n",
    "            if p:\n",
    "                s += ' | '\n",
    "        \n",
    "        s += ' >> right'\n",
    "        \n",
    "        return s\n",
    "    \n",
    "    "
   ]
  },
  {
   "cell_type": "code",
   "execution_count": 38,
   "metadata": {},
   "outputs": [],
   "source": [
    "deque = Deck()"
   ]
  },
  {
   "cell_type": "code",
   "execution_count": 39,
   "metadata": {},
   "outputs": [
    {
     "data": {
      "text/plain": [
       "Deck is Empty!"
      ]
     },
     "execution_count": 39,
     "metadata": {},
     "output_type": "execute_result"
    }
   ],
   "source": [
    "deque"
   ]
  },
  {
   "cell_type": "code",
   "execution_count": 40,
   "metadata": {},
   "outputs": [
    {
     "data": {
      "text/plain": [
       "True"
      ]
     },
     "execution_count": 40,
     "metadata": {},
     "output_type": "execute_result"
    }
   ],
   "source": [
    "deque.empty()"
   ]
  },
  {
   "cell_type": "code",
   "execution_count": 41,
   "metadata": {},
   "outputs": [
    {
     "data": {
      "text/plain": [
       "left << 5 >> right"
      ]
     },
     "execution_count": 41,
     "metadata": {},
     "output_type": "execute_result"
    }
   ],
   "source": [
    "deque.push_left(5)\n",
    "deque"
   ]
  },
  {
   "cell_type": "code",
   "execution_count": 42,
   "metadata": {},
   "outputs": [
    {
     "data": {
      "text/plain": [
       "left << 5 | 10 >> right"
      ]
     },
     "execution_count": 42,
     "metadata": {},
     "output_type": "execute_result"
    }
   ],
   "source": [
    "deque.push_right(10)\n",
    "deque"
   ]
  },
  {
   "cell_type": "code",
   "execution_count": 43,
   "metadata": {},
   "outputs": [
    {
     "data": {
      "text/plain": [
       "left << 5 | 10 >> right"
      ]
     },
     "execution_count": 43,
     "metadata": {},
     "output_type": "execute_result"
    }
   ],
   "source": [
    "deque"
   ]
  },
  {
   "cell_type": "code",
   "execution_count": 44,
   "metadata": {},
   "outputs": [
    {
     "data": {
      "text/plain": [
       "2"
      ]
     },
     "execution_count": 44,
     "metadata": {},
     "output_type": "execute_result"
    }
   ],
   "source": [
    "len(deque)"
   ]
  },
  {
   "cell_type": "code",
   "execution_count": 45,
   "metadata": {},
   "outputs": [
    {
     "data": {
      "text/plain": [
       "5"
      ]
     },
     "execution_count": 45,
     "metadata": {},
     "output_type": "execute_result"
    }
   ],
   "source": [
    "deque.pop_left()"
   ]
  },
  {
   "cell_type": "code",
   "execution_count": 46,
   "metadata": {},
   "outputs": [
    {
     "data": {
      "text/plain": [
       "10"
      ]
     },
     "execution_count": 46,
     "metadata": {},
     "output_type": "execute_result"
    }
   ],
   "source": [
    "deque.pop_right()"
   ]
  },
  {
   "cell_type": "code",
   "execution_count": 47,
   "metadata": {},
   "outputs": [
    {
     "data": {
      "text/plain": [
       "Deck is Empty!"
      ]
     },
     "execution_count": 47,
     "metadata": {},
     "output_type": "execute_result"
    }
   ],
   "source": [
    "deque"
   ]
  },
  {
   "cell_type": "code",
   "execution_count": 48,
   "metadata": {},
   "outputs": [],
   "source": [
    "deque.push_left(1)\n",
    "deque.push_left(2)\n",
    "deque.push_left(3)\n",
    "deque.push_left(4)\n",
    "deque.push_left(5)\n"
   ]
  },
  {
   "cell_type": "code",
   "execution_count": 49,
   "metadata": {},
   "outputs": [],
   "source": [
    "deque.push_right(10)\n",
    "deque.push_right(9)\n",
    "deque.push_right(8)\n",
    "deque.push_right(7)\n",
    "deque.push_right(6)\n"
   ]
  },
  {
   "cell_type": "code",
   "execution_count": 50,
   "metadata": {},
   "outputs": [
    {
     "data": {
      "text/plain": [
       "5"
      ]
     },
     "execution_count": 50,
     "metadata": {},
     "output_type": "execute_result"
    }
   ],
   "source": [
    "deque.peek_left()"
   ]
  },
  {
   "cell_type": "code",
   "execution_count": 51,
   "metadata": {},
   "outputs": [
    {
     "data": {
      "text/plain": [
       "6"
      ]
     },
     "execution_count": 51,
     "metadata": {},
     "output_type": "execute_result"
    }
   ],
   "source": [
    "deque.peek_right()"
   ]
  },
  {
   "cell_type": "code",
   "execution_count": 52,
   "metadata": {},
   "outputs": [
    {
     "data": {
      "text/plain": [
       "5"
      ]
     },
     "execution_count": 52,
     "metadata": {},
     "output_type": "execute_result"
    }
   ],
   "source": [
    "deque.pop_left()"
   ]
  },
  {
   "cell_type": "code",
   "execution_count": 53,
   "metadata": {},
   "outputs": [
    {
     "data": {
      "text/plain": [
       "6"
      ]
     },
     "execution_count": 53,
     "metadata": {},
     "output_type": "execute_result"
    }
   ],
   "source": [
    "deque.pop_right()"
   ]
  },
  {
   "cell_type": "code",
   "execution_count": 54,
   "metadata": {},
   "outputs": [
    {
     "data": {
      "text/plain": [
       "left << 4 | 3 | 2 | 1 | 10 | 9 | 8 | 7 >> right"
      ]
     },
     "execution_count": 54,
     "metadata": {},
     "output_type": "execute_result"
    }
   ],
   "source": [
    "deque"
   ]
  },
  {
   "cell_type": "code",
   "execution_count": 55,
   "metadata": {},
   "outputs": [
    {
     "data": {
      "text/plain": [
       "8"
      ]
     },
     "execution_count": 55,
     "metadata": {},
     "output_type": "execute_result"
    }
   ],
   "source": [
    "len(deque)"
   ]
  },
  {
   "cell_type": "code",
   "execution_count": null,
   "metadata": {},
   "outputs": [],
   "source": []
  }
 ],
 "metadata": {
  "kernelspec": {
   "display_name": "Python 3 (ipykernel)",
   "language": "python",
   "name": "python3"
  },
  "language_info": {
   "codemirror_mode": {
    "name": "ipython",
    "version": 3
   },
   "file_extension": ".py",
   "mimetype": "text/x-python",
   "name": "python",
   "nbconvert_exporter": "python",
   "pygments_lexer": "ipython3",
   "version": "3.11.5"
  }
 },
 "nbformat": 4,
 "nbformat_minor": 2
}
